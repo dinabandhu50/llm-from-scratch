{
 "cells": [
  {
   "cell_type": "markdown",
   "id": "9f607f5e",
   "metadata": {},
   "source": [
    "# 3. Coding attention mechanisms"
   ]
  },
  {
   "cell_type": "markdown",
   "id": "b8b560d2",
   "metadata": {},
   "source": [
    "<img src=\"./images/chapter-3/Fig3.1.png\" width=\"720\">  \n",
    "  \n",
    "<img src=\"./images/chapter-3/Fig3.2.png\" width=\"720\">"
   ]
  },
  {
   "cell_type": "code",
   "execution_count": null,
   "id": "094a0f6d",
   "metadata": {},
   "outputs": [],
   "source": [
    "import os"
   ]
  },
  {
   "cell_type": "code",
   "execution_count": null,
   "id": "0a832a75",
   "metadata": {},
   "outputs": [],
   "source": []
  },
  {
   "cell_type": "code",
   "execution_count": null,
   "id": "927c9026",
   "metadata": {},
   "outputs": [],
   "source": []
  }
 ],
 "metadata": {
  "kernelspec": {
   "display_name": ".venv",
   "language": "python",
   "name": "python3"
  },
  "language_info": {
   "name": "python",
   "version": "3.12.5"
  }
 },
 "nbformat": 4,
 "nbformat_minor": 5
}
