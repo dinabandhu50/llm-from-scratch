{
 "cells": [
  {
   "cell_type": "markdown",
   "metadata": {},
   "source": [
    "## Theory  \n",
    "### Step 1: Define the Optimal Quantization Points for a Normal Distribution\n",
    "\n",
    "The goal is to create a k-bit quantization scheme that best fits a standard normal \n",
    "distribution $N(0,1)$.\n",
    "\n",
    "- We divide the normal distribution into $2^{k} + 1$ quantization bins.  \n",
    "- The quantization points $q_{i}$ are computed using the quantile function \n",
    "$Q_{X}(.)$ of $N(0,1)$.  \n",
    "- The quantization points are set as the midpoints between adjacent quantiles:  \n",
    "$$ q_{i} = \\frac{1}{2} * (Q_{X}(\\frac{i}{2^{k} + 1}) + Q_{X}(\\frac{i+1}{2^{k} + 1})) $$\n",
    "\n",
    "where:  \n",
    "- $Q_{X}(p)$ is the inverse cumulative distribution function (CDF) of $N(0,1)$.  \n",
    "- $i$ ranges from $1 to 2^{k}$  \n",
    "\n",
    "### Step 2: Normalize to the Range \\[−1, 1\\]  \n",
    "\n",
    "After computing the quantization points for $N(0,1)$, we scale them to fit within the \n",
    "fixed range $[−1,1]$. This ensures compatibility with standard quantization methods.  \n",
    "\n",
    "$$q^{'}_{i} = \\frac{q_{i}}{max(\\|q_{i}\\|)}$$  \n",
    "\n",
    "where $max(\\|q_{i}\\|)$ ensures that the values fit within $[−1,1]$.\n"
   ]
  },
  {
   "cell_type": "code",
   "execution_count": null,
   "metadata": {},
   "outputs": [],
   "source": [
    "# From research paper\n",
    "# NormalFloat 4-bit data type\n",
    "# The exact values of the NF4 data type are as follows:\n",
    "\n",
    "nf4_quantization_levels = [\n",
    "    -1.0,\n",
    "    -0.6961928009986877,\n",
    "    -0.5250730514526367,\n",
    "    -0.39491748809814453,\n",
    "    -0.28444138169288635,\n",
    "    -0.18477343022823334,\n",
    "    -0.09105003625154495,\n",
    "    0.0,\n",
    "    0.07958029955625534,\n",
    "    0.16093020141124725,\n",
    "    0.24611230194568634,\n",
    "    0.33791524171829224,\n",
    "    0.44070982933044434,\n",
    "    0.5626170039176941,\n",
    "    0.7229568362236023,\n",
    "    1.0,\n",
    "]"
   ]
  },
  {
   "cell_type": "markdown",
   "metadata": {},
   "source": [
    "### My Implementations"
   ]
  },
  {
   "cell_type": "code",
   "execution_count": 127,
   "metadata": {},
   "outputs": [],
   "source": [
    "import torch"
   ]
  },
  {
   "cell_type": "markdown",
   "metadata": {},
   "source": [
    "### 1. Naive implementation"
   ]
  },
  {
   "cell_type": "code",
   "execution_count": 129,
   "metadata": {},
   "outputs": [
    {
     "name": "stdout",
     "output_type": "stream",
     "text": [
      "i: 1, n_quantiles 17, mid_points: -1.3757789134979248\n",
      "i: 2, n_quantiles 17, mid_points: -1.0578655004501343\n",
      "i: 3, n_quantiles 17, mid_points: -0.8252109289169312\n",
      "i: 4, n_quantiles 17, mid_points: -0.6314586997032166\n",
      "i: 5, n_quantiles 17, mid_points: -0.4593935012817383\n",
      "i: 6, n_quantiles 17, mid_points: -0.30019986629486084\n",
      "i: 7, n_quantiles 17, mid_points: -0.14839954674243927\n",
      "i: 8, n_quantiles 17, mid_points: 3.725290298461914e-08\n",
      "i: 9, n_quantiles 17, mid_points: 0.14839962124824524\n",
      "i: 10, n_quantiles 17, mid_points: 0.3001999258995056\n",
      "i: 11, n_quantiles 17, mid_points: 0.45939356088638306\n",
      "i: 12, n_quantiles 17, mid_points: 0.6314587593078613\n",
      "i: 13, n_quantiles 17, mid_points: 0.8252109289169312\n",
      "i: 14, n_quantiles 17, mid_points: 1.0578655004501343\n",
      "i: 15, n_quantiles 17, mid_points: 1.3757789134979248\n",
      "i: 16, n_quantiles 17, mid_points: inf\n"
     ]
    }
   ],
   "source": [
    "# Naive implementation\n",
    "k = 4\n",
    "n_quantiles = 2**k + 1\n",
    "normal_dist = torch.distributions.Normal(0, 1)\n",
    "\n",
    "for i in range(1, n_quantiles):\n",
    "    mid_points = 0.5 * (\n",
    "        normal_dist.icdf(torch.tensor(i / n_quantiles))\n",
    "        + normal_dist.icdf(torch.tensor((i + 1) / n_quantiles))\n",
    "    )\n",
    "    print(f\"i: {i}, n_quantiles {n_quantiles}, mid_points: {mid_points}\")"
   ]
  },
  {
   "cell_type": "markdown",
   "metadata": {},
   "source": [
    "Note:  \n",
    "- The problem here is the infinite values, and no representation for zero"
   ]
  },
  {
   "cell_type": "markdown",
   "metadata": {},
   "source": [
    "### 2. Handle the infinite values"
   ]
  },
  {
   "cell_type": "code",
   "execution_count": null,
   "metadata": {},
   "outputs": [
    {
     "name": "stdout",
     "output_type": "stream",
     "text": [
      "mid_quantiles: \n",
      "tensor([-1.4069, -1.0940, -0.8661, -0.6771, -0.5101, -0.3565, -0.2110, -0.0699,\n",
      "         0.0699,  0.2110,  0.3565,  0.5101,  0.6771,  0.8661,  1.0940,  1.4069])\n",
      "sorted q_values: \n",
      "tensor([-1.4069, -1.0940, -0.8661, -0.6771, -0.5101, -0.3565, -0.2110, -0.0699,\n",
      "         0.0699,  0.2110,  0.3565,  0.5101,  0.6771,  0.8661,  1.0940,  1.4069])\n",
      "Normalized q_values: \n",
      "tensor([-1.0000, -0.7776, -0.6156, -0.4812, -0.3626, -0.2534, -0.1499, -0.0497,\n",
      "         0.0497,  0.1499,  0.2534,  0.3626,  0.4812,  0.6156,  0.7776,  1.0000])\n"
     ]
    }
   ],
   "source": [
    "# Implement using linspace\n",
    "## Define k-bit quantization\n",
    "k = 4\n",
    "n_quantiles = 2**k + 1  # 17 quantiles for NF4\n",
    "\n",
    "## Standard normal distribution\n",
    "normal_dist = torch.distributions.Normal(0, 1)\n",
    "\n",
    "## Safe probability values avoiding 0 and 1\n",
    "quantile_positions = torch.linspace(\n",
    "    1 / (n_quantiles + 1), n_quantiles / (n_quantiles + 1), n_quantiles\n",
    ")\n",
    "\n",
    "## Compute mid-quantiles (symmetric NF4)\n",
    "quantiles = 0.5 * (\n",
    "    normal_dist.icdf(quantile_positions[:-1]) + normal_dist.icdf(quantile_positions[1:])\n",
    ")\n",
    "print(f\"mid_quantiles: \\n{quantiles}\")\n",
    "\n",
    "## Normalize\n",
    "quantiles = quantiles.sort().values\n",
    "print(f\"sorted quantiles: \\n{quantiles}\")\n",
    "quantiles /= quantiles.max()\n",
    "print(f\"Normalized quantiles: \\n{quantiles}\")\n"
   ]
  },
  {
   "cell_type": "markdown",
   "metadata": {},
   "source": [
    "Note:  \n",
    "- The problem here is no representation for zero"
   ]
  },
  {
   "cell_type": "markdown",
   "metadata": {},
   "source": [
    "### 3. Implementation from research paper\n",
    "\n",
    "implementation from github modified to get NF4 quantization levels\n",
    "\n",
    "Reference:  \n",
    "- https://github.com/bitsandbytes-foundation/bitsandbytes/blob/1f2ca43ae5f3b453ff5fed73a17c661dc4fbbcb3/bitsandbytes/functional.py#L319"
   ]
  },
  {
   "cell_type": "code",
   "execution_count": null,
   "metadata": {},
   "outputs": [
    {
     "name": "stdout",
     "output_type": "stream",
     "text": [
      "v1 - [2.326348304748535, 1.4665447473526, 1.1146509647369385, 0.8641599416732788, 0.6588377356529236, 0.47821110486984253, 0.3120533227920532, 0.15413910150527954]\n",
      "v2 - [0]\n",
      "v3 -[-2.326348304748535, -1.40507173538208, -1.0364335775375366, -0.7721933126449585, -0.5533846616744995, -0.3584587275981903, -0.176374152302742]\n",
      "sorted values: \n",
      "tensor([-2.3263, -1.4051, -1.0364, -0.7722, -0.5534, -0.3585, -0.1764,  0.0000,\n",
      "         0.1541,  0.3121,  0.4782,  0.6588,  0.8642,  1.1147,  1.4665,  2.3263])\n",
      "normalized values: \n",
      "tensor([-1.0000, -0.6040, -0.4455, -0.3319, -0.2379, -0.1541, -0.0758,  0.0000,\n",
      "         0.0663,  0.1341,  0.2056,  0.2832,  0.3715,  0.4791,  0.6304,  1.0000])\n"
     ]
    }
   ],
   "source": [
    "# github implementation of the NF4\n",
    "offset = 0.9677083\n",
    "# one more positive value, this is an asymmetric type\n",
    "normal_dist = torch.distributions.Normal(0, 1)\n",
    "v1 = normal_dist.icdf(torch.linspace(offset, 0.5, 9)[:-1]).tolist()\n",
    "print(f\"v1 - {v1}\")\n",
    "# v2 = [0] * (256 - 15)  ## we have 15 non-zero values in this data type\n",
    "v2 = [0]\n",
    "print(f\"v2 - {v2}\")\n",
    "v3 = (-normal_dist.icdf(torch.linspace(offset, 0.5, 8)[:-1])).tolist()\n",
    "print(f\"v3 -{v3}\")\n",
    "\n",
    "v = v1 + v2 + v3\n",
    "\n",
    "values = torch.Tensor(v)\n",
    "values = values.sort().values\n",
    "print(f\"sorted values: \\n{values}\")\n",
    "values /= values.max()\n",
    "print(f\"normalized values: \\n{values}\")"
   ]
  },
  {
   "cell_type": "code",
   "execution_count": null,
   "metadata": {},
   "outputs": [],
   "source": []
  },
  {
   "cell_type": "code",
   "execution_count": null,
   "metadata": {},
   "outputs": [],
   "source": []
  },
  {
   "cell_type": "markdown",
   "metadata": {},
   "source": [
    "### References:  \n",
    "\n",
    "- https://chatgpt.com/share/67d23f45-b88c-800b-9dd7-dbe79008f7fe  \n"
   ]
  }
 ],
 "metadata": {
  "kernelspec": {
   "display_name": ".venv",
   "language": "python",
   "name": "python3"
  },
  "language_info": {
   "codemirror_mode": {
    "name": "ipython",
    "version": 3
   },
   "file_extension": ".py",
   "mimetype": "text/x-python",
   "name": "python",
   "nbconvert_exporter": "python",
   "pygments_lexer": "ipython3",
   "version": "3.12.5"
  }
 },
 "nbformat": 4,
 "nbformat_minor": 2
}
