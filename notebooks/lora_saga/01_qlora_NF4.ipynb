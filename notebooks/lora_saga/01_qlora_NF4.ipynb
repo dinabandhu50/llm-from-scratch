{
 "cells": [
  {
   "cell_type": "markdown",
   "metadata": {},
   "source": [
    "## Theory  \n",
    "### Step 1: Define the Optimal Quantization Points for a Normal Distribution\n",
    "\n",
    "The goal is to create a k-bit quantization scheme that best fits a standard normal \n",
    "distribution $N(0,1)$.\n",
    "\n",
    "- We divide the normal distribution into $2^{k} + 1$ quantization bins.  \n",
    "- The quantization points $q_{i}$ are computed using the quantile function \n",
    "$Q_{X}(.)$ of $N(0,1)$.  \n",
    "- The quantization points are set as the midpoints between adjacent quantiles:  \n",
    "$$ q_{i} = \\frac{1}{2} * (Q_{X}(\\frac{i}{2^{k} + 1}) + Q_{X}(\\frac{i+1}{2^{k} + 1})) $$\n",
    "\n",
    "where:  \n",
    "- $Q_{X}(p)$ is the inverse cumulative distribution function (CDF) of $N(0,1)$.  \n",
    "- $i$ ranges from $1 to 2^{k}$  \n",
    "\n",
    "### Step 2: Normalize to the Range \\[−1, 1\\]  \n",
    "\n",
    "After computing the quantization points for $N(0,1)$, we scale them to fit within the \n",
    "fixed range $[−1,1]$. This ensures compatibility with standard quantization methods.  \n",
    "\n",
    "$$q^{'}_{i} = \\frac{q_{i}}{max(\\|q_{i}\\|)}$$  \n",
    "\n",
    "where $max(\\|q_{i}\\|)$ ensures that the values fit within $[−1,1]$.\n"
   ]
  },
  {
   "cell_type": "code",
   "execution_count": 2,
   "metadata": {},
   "outputs": [],
   "source": [
    "# From research paper\n",
    "# NormalFloat 4-bit data type\n",
    "# The exact values of the NF4 data type are as follows:\n",
    "\n",
    "nf4_quantization_levels = [\n",
    "    -1.0,\n",
    "    -0.6961928009986877,\n",
    "    -0.5250730514526367,\n",
    "    -0.39491748809814453,\n",
    "    -0.28444138169288635,\n",
    "    -0.18477343022823334,\n",
    "    -0.09105003625154495,\n",
    "    0.0,\n",
    "    0.07958029955625534,\n",
    "    0.16093020141124725,\n",
    "    0.24611230194568634,\n",
    "    0.33791524171829224,\n",
    "    0.44070982933044434,\n",
    "    0.5626170039176941,\n",
    "    0.7229568362236023,\n",
    "    1.0,\n",
    "]"
   ]
  },
  {
   "cell_type": "markdown",
   "metadata": {},
   "source": [
    "### My Implementations"
   ]
  },
  {
   "cell_type": "code",
   "execution_count": 3,
   "metadata": {},
   "outputs": [],
   "source": [
    "import torch"
   ]
  },
  {
   "cell_type": "markdown",
   "metadata": {},
   "source": [
    "### 1. Naive implementation"
   ]
  },
  {
   "cell_type": "code",
   "execution_count": 4,
   "metadata": {},
   "outputs": [
    {
     "name": "stdout",
     "output_type": "stream",
     "text": [
      "i: 1, n_quantiles 17, mid_points: -1.3757789134979248\n",
      "i: 2, n_quantiles 17, mid_points: -1.0578655004501343\n",
      "i: 3, n_quantiles 17, mid_points: -0.8252109289169312\n",
      "i: 4, n_quantiles 17, mid_points: -0.6314586997032166\n",
      "i: 5, n_quantiles 17, mid_points: -0.4593935012817383\n",
      "i: 6, n_quantiles 17, mid_points: -0.30019986629486084\n",
      "i: 7, n_quantiles 17, mid_points: -0.14839954674243927\n",
      "i: 8, n_quantiles 17, mid_points: 3.725290298461914e-08\n",
      "i: 9, n_quantiles 17, mid_points: 0.14839962124824524\n",
      "i: 10, n_quantiles 17, mid_points: 0.3001999258995056\n",
      "i: 11, n_quantiles 17, mid_points: 0.45939356088638306\n",
      "i: 12, n_quantiles 17, mid_points: 0.6314587593078613\n",
      "i: 13, n_quantiles 17, mid_points: 0.8252109289169312\n",
      "i: 14, n_quantiles 17, mid_points: 1.0578655004501343\n",
      "i: 15, n_quantiles 17, mid_points: 1.3757789134979248\n",
      "i: 16, n_quantiles 17, mid_points: inf\n"
     ]
    }
   ],
   "source": [
    "# Naive implementation\n",
    "k = 4\n",
    "n_quantiles = 2**k + 1\n",
    "normal_dist = torch.distributions.Normal(0, 1)\n",
    "\n",
    "for i in range(1, n_quantiles):\n",
    "    mid_points = 0.5 * (\n",
    "        normal_dist.icdf(torch.tensor(i / n_quantiles))\n",
    "        + normal_dist.icdf(torch.tensor((i + 1) / n_quantiles))\n",
    "    )\n",
    "    print(f\"i: {i}, n_quantiles {n_quantiles}, mid_points: {mid_points}\")"
   ]
  },
  {
   "cell_type": "markdown",
   "metadata": {},
   "source": [
    "Note:  \n",
    "- The problem here is the infinite values, and no representation for zero"
   ]
  },
  {
   "cell_type": "markdown",
   "metadata": {},
   "source": [
    "### 2. Handle the infinite values"
   ]
  },
  {
   "cell_type": "code",
   "execution_count": 5,
   "metadata": {},
   "outputs": [
    {
     "name": "stdout",
     "output_type": "stream",
     "text": [
      "mid_quantiles: \n",
      "tensor([-1.4069, -1.0940, -0.8661, -0.6771, -0.5101, -0.3565, -0.2110, -0.0699,\n",
      "         0.0699,  0.2110,  0.3565,  0.5101,  0.6771,  0.8661,  1.0940,  1.4069])\n",
      "sorted quantiles: \n",
      "tensor([-1.4069, -1.0940, -0.8661, -0.6771, -0.5101, -0.3565, -0.2110, -0.0699,\n",
      "         0.0699,  0.2110,  0.3565,  0.5101,  0.6771,  0.8661,  1.0940,  1.4069])\n",
      "Normalized quantiles: \n",
      "tensor([-1.0000, -0.7776, -0.6156, -0.4812, -0.3626, -0.2534, -0.1499, -0.0497,\n",
      "         0.0497,  0.1499,  0.2534,  0.3626,  0.4812,  0.6156,  0.7776,  1.0000])\n"
     ]
    }
   ],
   "source": [
    "# Implement using linspace\n",
    "## Define k-bit quantization\n",
    "k = 4\n",
    "n_quantiles = 2**k + 1  # 17 quantiles for NF4\n",
    "\n",
    "## Standard normal distribution\n",
    "normal_dist = torch.distributions.Normal(0, 1)\n",
    "\n",
    "## Safe probability values avoiding 0 and 1\n",
    "quantile_positions = torch.linspace(\n",
    "    1 / (n_quantiles + 1), n_quantiles / (n_quantiles + 1), n_quantiles\n",
    ")\n",
    "\n",
    "## Compute mid-quantiles (symmetric NF4)\n",
    "quantiles = 0.5 * (\n",
    "    normal_dist.icdf(quantile_positions[:-1]) + normal_dist.icdf(quantile_positions[1:])\n",
    ")\n",
    "print(f\"mid_quantiles: \\n{quantiles}\")\n",
    "\n",
    "## Normalize\n",
    "quantiles = quantiles.sort().values\n",
    "print(f\"sorted quantiles: \\n{quantiles}\")\n",
    "quantiles /= quantiles.max()\n",
    "print(f\"Normalized quantiles: \\n{quantiles}\")\n"
   ]
  },
  {
   "cell_type": "markdown",
   "metadata": {},
   "source": [
    "Note:  \n",
    "- The problem here is no representation for zero"
   ]
  },
  {
   "cell_type": "markdown",
   "metadata": {},
   "source": [
    "### 3. Implementation from research paper\n",
    "\n",
    "implementation from github modified to get NF4 quantization levels\n",
    "\n",
    "Reference:  \n",
    "- https://github.com/bitsandbytes-foundation/bitsandbytes/blob/1f2ca43ae5f3b453ff5fed73a17c661dc4fbbcb3/bitsandbytes/functional.py#L319"
   ]
  },
  {
   "cell_type": "code",
   "execution_count": 6,
   "metadata": {},
   "outputs": [
    {
     "name": "stdout",
     "output_type": "stream",
     "text": [
      "sorted lavels: \n",
      "tensor([-1.8481, -1.2867, -0.9704, -0.7299, -0.5257, -0.3415, -0.1683,  0.0000,\n",
      "         0.1471,  0.2974,  0.4548,  0.6245,  0.8145,  1.0398,  1.3361,  1.8481])\n",
      "normalized sorted levels: \n",
      "tensor([-1.0000, -0.6962, -0.5251, -0.3949, -0.2844, -0.1848, -0.0911,  0.0000,\n",
      "         0.0796,  0.1609,  0.2461,  0.3379,  0.4407,  0.5626,  0.7230,  1.0000])\n"
     ]
    }
   ],
   "source": [
    "# github implementation of the NF4\n",
    "offset = 0.9677083\n",
    "# one more positive value, this is an asymmetric type\n",
    "normal_dist = torch.distributions.Normal(0, 1)\n",
    "pos_levels = normal_dist.icdf(torch.linspace(offset, 0.5, 9)[:-1]).tolist()\n",
    "# print(f\"pos_levels - {pos_levels}\")\n",
    "zero_level = [0]\n",
    "# print(f\"zero_level - {zero_level}\")\n",
    "neg_levels = (-normal_dist.icdf(torch.linspace(offset, 0.5, 8)[:-1])).tolist()\n",
    "# print(f\"neg_levels -{neg_levels}\")\n",
    "\n",
    "v = pos_levels + zero_level + neg_levels\n",
    "\n",
    "values = torch.Tensor(v)\n",
    "values = values.sort().values\n",
    "print(f\"sorted lavels: \\n{values}\")\n",
    "values /= values.max()\n",
    "print(f\"normalized sorted levels: \\n{values}\")"
   ]
  },
  {
   "cell_type": "code",
   "execution_count": null,
   "metadata": {},
   "outputs": [],
   "source": []
  },
  {
   "cell_type": "code",
   "execution_count": null,
   "metadata": {},
   "outputs": [],
   "source": []
  },
  {
   "cell_type": "markdown",
   "metadata": {},
   "source": [
    "### References:  \n",
    "\n",
    "- https://chatgpt.com/share/67d23f45-b88c-800b-9dd7-dbe79008f7fe  \n"
   ]
  }
 ],
 "metadata": {
  "kernelspec": {
   "display_name": ".venv",
   "language": "python",
   "name": "python3"
  },
  "language_info": {
   "codemirror_mode": {
    "name": "ipython",
    "version": 3
   },
   "file_extension": ".py",
   "mimetype": "text/x-python",
   "name": "python",
   "nbconvert_exporter": "python",
   "pygments_lexer": "ipython3",
   "version": "3.12.5"
  }
 },
 "nbformat": 4,
 "nbformat_minor": 2
}
